{
 "cells": [
  {
   "cell_type": "markdown",
   "metadata": {},
   "source": [
    "# Random Coefficients BLP\n",
    "\n",
    "This is my take on replicating Berry, Levinsohn and Pakes (1995), focusing on the empirical implementation in Julia more than on the derivation of key results.\n",
    "\n",
    "## Data\n",
    "\n",
    "The `cars` data \n",
    "\n",
    "### GMM review\n",
    "\n",
    "The GMM estimate is given by\n",
    "\n",
    "$$\n",
    "g_n(\\beta) = \\frac{1}{n} \\sum_{i=1}^n z_i(y_i - x'_i\\beta)\n",
    "$$\n",
    "\n",
    "Let $$Q(\\beta) = g_n(\\beta)' \\mathbf{W} g_n(\\beta)$$.\n",
    "Then the estimated $\\beta$ is given by\n",
    "$$\n",
    "\\hat\\beta = \\arg \\min Q(\\beta).\n",
    "$$\n",
    "\n",
    "...\n",
    "\n",
    "Expanding the objective function $Q(\\beta)$, we can write it as\n",
    "$$\n",
    "Q(\\beta) = y' Z W Z' y - \\beta' X' Z W Z' y - y'Z W Z' X \\beta + \\beta' X' Z W Z' X \\beta\n",
    "$$\n",
    "By equating the derivate of this function to zero, we have that\n",
    "$$\n",
    "\\begin{aligned}\n",
    "\\frac{\\partial Q(\\beta)}{\\partial \\beta} &= 0 \\\\\n",
    "2 X' Z W' Z' X \\hat\\beta - 2 X' Z W Z' y &= 0 \\\\\n",
    "\\implies \\hat\\beta &= (X' Z W' Z' X)^{-1} X' Z W Z' y.\n",
    "\\end{aligned}\n",
    "$$\n",
    "\n",
    "The choice of $W$, the weighting matrix, is key.\n",
    "In general, the weighting matrix of the GMM estimator is $(\\Phi(M))^{-1}$.\n",
    "Under homoscedasticity (i.e. assuming independently distributed disturbances), the GMM estimator and the 2SLS estimators are equivalent, and the weighting matrix is $(Z'Z)^{-1}$."
   ]
  },
  {
   "source": [
    "# https://mark-ponder.com/tutorials/static-discrete-choice-models/random-coefficients-blp/\n",
    "using CSV, DataFrames, DataFramesMeta\n",
    "using GLM\n",
    "\n",
    "cd(\"/Users/alvaro/Repos/BLP\")\n",
    "cars = DataFrame(CSV.File(\"blp_1995_data.csv\"))"
   ],
   "cell_type": "code",
   "metadata": {},
   "execution_count": 1,
   "outputs": [
    {
     "output_type": "execute_result",
     "data": {
      "text/plain": [
       "\u001b[1m2217×20 DataFrame\u001b[0m\n",
       "\u001b[1m  Row \u001b[0m│\u001b[1m prodvec \u001b[0m\u001b[1m modelvec \u001b[0m\u001b[1m newmodv  \u001b[0m\u001b[1m model_year \u001b[0m\u001b[1m id    \u001b[0m\u001b[1m firmid \u001b[0m\u001b[1m market \u001b[0m\u001b[1m hpwt  \u001b[0m ⋯\n",
       "\u001b[1m      \u001b[0m│\u001b[90m String  \u001b[0m\u001b[90m String   \u001b[0m\u001b[90m String   \u001b[0m\u001b[90m Int64      \u001b[0m\u001b[90m Int64 \u001b[0m\u001b[90m Int64  \u001b[0m\u001b[90m Int64  \u001b[0m\u001b[90m Float6\u001b[0m ⋯\n",
       "──────┼─────────────────────────────────────────────────────────────────────────\n",
       "    1 │ AMGREM   AMGREM    AMGREM71          71    129      15       1  0.5289 ⋯\n",
       "    2 │ AMHORN   AMHORN    AMHORN71          71    130      15       1  0.4943\n",
       "    3 │ AMJAVL   AMJAVL    AMJAVL71          71    132      15       1  0.4676\n",
       "    4 │ AMMATA   AMMATA    AMMATA71          71    134      15       1  0.4265\n",
       "    5 │ AMAMBS   AMAMBS    AMAMBS71          71    136      15       1  0.4524 ⋯\n",
       "    6 │ BKSKYL   BKSKYL    BKSKYL71          71    138      19       1  0.4508\n",
       "    7 │ BKLSAB   BKLSAB    BKLSAB71          71    141      19       1  0.5640\n",
       "    8 │ BKCNTU   BKCNTU    BKCNTU71          71    143      19       1  0.7313\n",
       "    9 │ BKELCT   BKELCT    BKELCT71          71    144      19       1  0.7190 ⋯\n",
       "   10 │ BKRIVE   BKRIVE    BKRIVE71          71    145      19       1  0.7283\n",
       "   11 │ CDCALA   CDCALA    CDCALA71          71    146      19       1  0.7324\n",
       "  ⋮   │    ⋮        ⋮         ⋮          ⋮         ⋮      ⋮       ⋮        ⋮   ⋱\n",
       " 2208 │ VWFOX    VWFOX     VWFOX87           87   5578       7      20  0.3729\n",
       " 2209 │ VWGOLF   VWGOLF    VWGOLF88          88   5579       7      20  0.4504 ⋯\n",
       " 2210 │ VWJETT   VWJETT    VWJETT88          88   5581       7      20  0.4395\n",
       " 2211 │ VWPASS   VWPASS    VWPASS90          90   5582       7      20  0.3362\n",
       " 2212 │ VV240    VV240     VV24089           89   5583       6      20  0.3905\n",
       " 2213 │ VV740    VV740     VV74085           85   5584       6      20  0.3859 ⋯\n",
       " 2214 │ VV760G   VV760G    VV760G87          87   5585       6      20  0.4359\n",
       " 2215 │ YGGVPL   YGGVPL    YGGVPL90          90   5589      23      20  0.3582\n",
       " 2216 │ PS911C   PS911C    PS911C90          90   5590      12      20  0.8149\n",
       " 2217 │ PS944    PS944     PS94490           90   5592      12      20  0.6937 ⋯\n",
       "\u001b[31m                                                13 columns and 2196 rows omitted\u001b[0m"
      ],
      "text/html": "<table class=\"data-frame\"><thead><tr><th></th><th>prodvec</th><th>modelvec</th><th>newmodv</th><th>model_year</th><th>id</th><th>firmid</th><th>market</th><th>hpwt</th><th>space</th></tr><tr><th></th><th>String</th><th>String</th><th>String</th><th>Int64</th><th>Int64</th><th>Int64</th><th>Int64</th><th>Float64</th><th>Float64</th></tr></thead><tbody><p>2,217 rows × 20 columns (omitted printing of 11 columns)</p><tr><th>1</th><td>AMGREM</td><td>AMGREM</td><td>AMGREM71</td><td>71</td><td>129</td><td>15</td><td>1</td><td>0.528997</td><td>1.1502</td></tr><tr><th>2</th><td>AMHORN</td><td>AMHORN</td><td>AMHORN71</td><td>71</td><td>130</td><td>15</td><td>1</td><td>0.494324</td><td>1.278</td></tr><tr><th>3</th><td>AMJAVL</td><td>AMJAVL</td><td>AMJAVL71</td><td>71</td><td>132</td><td>15</td><td>1</td><td>0.467613</td><td>1.4592</td></tr><tr><th>4</th><td>AMMATA</td><td>AMMATA</td><td>AMMATA71</td><td>71</td><td>134</td><td>15</td><td>1</td><td>0.42654</td><td>1.6068</td></tr><tr><th>5</th><td>AMAMBS</td><td>AMAMBS</td><td>AMAMBS71</td><td>71</td><td>136</td><td>15</td><td>1</td><td>0.452489</td><td>1.6458</td></tr><tr><th>6</th><td>BKSKYL</td><td>BKSKYL</td><td>BKSKYL71</td><td>71</td><td>138</td><td>19</td><td>1</td><td>0.450871</td><td>1.6224</td></tr><tr><th>7</th><td>BKLSAB</td><td>BKLSAB</td><td>BKLSAB71</td><td>71</td><td>141</td><td>19</td><td>1</td><td>0.564002</td><td>1.768</td></tr><tr><th>8</th><td>BKCNTU</td><td>BKCNTU</td><td>BKCNTU71</td><td>71</td><td>143</td><td>19</td><td>1</td><td>0.731368</td><td>1.768</td></tr><tr><th>9</th><td>BKELCT</td><td>BKELCT</td><td>BKELCT71</td><td>71</td><td>144</td><td>19</td><td>1</td><td>0.719014</td><td>1.816</td></tr><tr><th>10</th><td>BKRIVE</td><td>BKRIVE</td><td>BKRIVE71</td><td>71</td><td>145</td><td>19</td><td>1</td><td>0.728324</td><td>1.744</td></tr><tr><th>11</th><td>CDCALA</td><td>CDCALA</td><td>CDCALA71</td><td>71</td><td>146</td><td>19</td><td>1</td><td>0.732484</td><td>1.808</td></tr><tr><th>12</th><td>CDDEVI</td><td>CDDEVI</td><td>CDDEVI71</td><td>71</td><td>147</td><td>19</td><td>1</td><td>0.729387</td><td>1.808</td></tr><tr><th>13</th><td>CDELDR</td><td>CDELDR</td><td>CDELDR71</td><td>71</td><td>148</td><td>19</td><td>1</td><td>0.780749</td><td>1.776</td></tr><tr><th>14</th><td>CDFLTW</td><td>CDFLTW</td><td>CDFLTW71</td><td>71</td><td>149</td><td>19</td><td>1</td><td>0.716511</td><td>1.832</td></tr><tr><th>15</th><td>CVVEGA</td><td>CVVEGA</td><td>CVVEGA71</td><td>71</td><td>150</td><td>19</td><td>1</td><td>0.419385</td><td>1.122</td></tr><tr><th>16</th><td>CVNOVA</td><td>CVNOVA</td><td>CVNOVA71</td><td>71</td><td>151</td><td>19</td><td>1</td><td>0.487231</td><td>1.387</td></tr><tr><th>17</th><td>CVCHEV</td><td>CVCHEV</td><td>CVCHEV71</td><td>71</td><td>153</td><td>19</td><td>1</td><td>0.451713</td><td>1.5352</td></tr><tr><th>18</th><td>CVCAMA</td><td>CVCAMA</td><td>CVCAMA71</td><td>71</td><td>158</td><td>19</td><td>1</td><td>0.468649</td><td>1.41</td></tr><tr><th>19</th><td>CVMNTC</td><td>CVMNTC</td><td>CVMNTC71</td><td>71</td><td>160</td><td>19</td><td>1</td><td>0.702408</td><td>1.5732</td></tr><tr><th>20</th><td>CVBISC</td><td>CVBISC</td><td>CVBISC71</td><td>71</td><td>161</td><td>19</td><td>1</td><td>0.388532</td><td>1.736</td></tr><tr><th>21</th><td>CVBELA</td><td>CVBELA</td><td>CVBELA71</td><td>71</td><td>163</td><td>19</td><td>1</td><td>0.388532</td><td>1.736</td></tr><tr><th>22</th><td>CVIMPA</td><td>CVIMPA</td><td>CVIMPA71</td><td>71</td><td>165</td><td>19</td><td>1</td><td>0.385638</td><td>1.736</td></tr><tr><th>23</th><td>CVCAPR</td><td>CVCAPR</td><td>CVCAPR71</td><td>71</td><td>167</td><td>19</td><td>1</td><td>0.631188</td><td>1.736</td></tr><tr><th>24</th><td>CVCORV</td><td>CVCORV</td><td>CVCORV71</td><td>71</td><td>169</td><td>19</td><td>1</td><td>0.843223</td><td>1.2627</td></tr><tr><th>25</th><td>CRNEWP</td><td>CRNEWP</td><td>CRNEWP71</td><td>71</td><td>170</td><td>16</td><td>1</td><td>0.659314</td><td>1.8</td></tr><tr><th>26</th><td>CR300</td><td>CR300</td><td>CR30071</td><td>71</td><td>171</td><td>16</td><td>1</td><td>0.775283</td><td>1.8</td></tr><tr><th>27</th><td>CRNEWY</td><td>CRNEWY</td><td>CRNEWY71</td><td>71</td><td>172</td><td>16</td><td>1</td><td>0.77278</td><td>1.8</td></tr><tr><th>28</th><td>DGCOLT</td><td>DGCOLT</td><td>DGCOLT71</td><td>71</td><td>173</td><td>16</td><td>1</td><td>0.49505</td><td>1.0168</td></tr><tr><th>29</th><td>DGDART</td><td>DGDART</td><td>DGDART71</td><td>71</td><td>177</td><td>16</td><td>1</td><td>0.431034</td><td>1.379</td></tr><tr><th>30</th><td>DGCHLN</td><td>DGCHLN</td><td>DGCHLN71</td><td>71</td><td>179</td><td>16</td><td>1</td><td>0.413907</td><td>1.4784</td></tr><tr><th>&vellip;</th><td>&vellip;</td><td>&vellip;</td><td>&vellip;</td><td>&vellip;</td><td>&vellip;</td><td>&vellip;</td><td>&vellip;</td><td>&vellip;</td><td>&vellip;</td></tr></tbody></table>",
      "text/latex": "\\begin{tabular}{r|cccccccccc}\n\t& prodvec & modelvec & newmodv & model\\_year & id & firmid & market & hpwt & space & \\\\\n\t\\hline\n\t& String & String & String & Int64 & Int64 & Int64 & Int64 & Float64 & Float64 & \\\\\n\t\\hline\n\t1 & AMGREM & AMGREM & AMGREM71 & 71 & 129 & 15 & 1 & 0.528997 & 1.1502 & $\\dots$ \\\\\n\t2 & AMHORN & AMHORN & AMHORN71 & 71 & 130 & 15 & 1 & 0.494324 & 1.278 & $\\dots$ \\\\\n\t3 & AMJAVL & AMJAVL & AMJAVL71 & 71 & 132 & 15 & 1 & 0.467613 & 1.4592 & $\\dots$ \\\\\n\t4 & AMMATA & AMMATA & AMMATA71 & 71 & 134 & 15 & 1 & 0.42654 & 1.6068 & $\\dots$ \\\\\n\t5 & AMAMBS & AMAMBS & AMAMBS71 & 71 & 136 & 15 & 1 & 0.452489 & 1.6458 & $\\dots$ \\\\\n\t6 & BKSKYL & BKSKYL & BKSKYL71 & 71 & 138 & 19 & 1 & 0.450871 & 1.6224 & $\\dots$ \\\\\n\t7 & BKLSAB & BKLSAB & BKLSAB71 & 71 & 141 & 19 & 1 & 0.564002 & 1.768 & $\\dots$ \\\\\n\t8 & BKCNTU & BKCNTU & BKCNTU71 & 71 & 143 & 19 & 1 & 0.731368 & 1.768 & $\\dots$ \\\\\n\t9 & BKELCT & BKELCT & BKELCT71 & 71 & 144 & 19 & 1 & 0.719014 & 1.816 & $\\dots$ \\\\\n\t10 & BKRIVE & BKRIVE & BKRIVE71 & 71 & 145 & 19 & 1 & 0.728324 & 1.744 & $\\dots$ \\\\\n\t11 & CDCALA & CDCALA & CDCALA71 & 71 & 146 & 19 & 1 & 0.732484 & 1.808 & $\\dots$ \\\\\n\t12 & CDDEVI & CDDEVI & CDDEVI71 & 71 & 147 & 19 & 1 & 0.729387 & 1.808 & $\\dots$ \\\\\n\t13 & CDELDR & CDELDR & CDELDR71 & 71 & 148 & 19 & 1 & 0.780749 & 1.776 & $\\dots$ \\\\\n\t14 & CDFLTW & CDFLTW & CDFLTW71 & 71 & 149 & 19 & 1 & 0.716511 & 1.832 & $\\dots$ \\\\\n\t15 & CVVEGA & CVVEGA & CVVEGA71 & 71 & 150 & 19 & 1 & 0.419385 & 1.122 & $\\dots$ \\\\\n\t16 & CVNOVA & CVNOVA & CVNOVA71 & 71 & 151 & 19 & 1 & 0.487231 & 1.387 & $\\dots$ \\\\\n\t17 & CVCHEV & CVCHEV & CVCHEV71 & 71 & 153 & 19 & 1 & 0.451713 & 1.5352 & $\\dots$ \\\\\n\t18 & CVCAMA & CVCAMA & CVCAMA71 & 71 & 158 & 19 & 1 & 0.468649 & 1.41 & $\\dots$ \\\\\n\t19 & CVMNTC & CVMNTC & CVMNTC71 & 71 & 160 & 19 & 1 & 0.702408 & 1.5732 & $\\dots$ \\\\\n\t20 & CVBISC & CVBISC & CVBISC71 & 71 & 161 & 19 & 1 & 0.388532 & 1.736 & $\\dots$ \\\\\n\t21 & CVBELA & CVBELA & CVBELA71 & 71 & 163 & 19 & 1 & 0.388532 & 1.736 & $\\dots$ \\\\\n\t22 & CVIMPA & CVIMPA & CVIMPA71 & 71 & 165 & 19 & 1 & 0.385638 & 1.736 & $\\dots$ \\\\\n\t23 & CVCAPR & CVCAPR & CVCAPR71 & 71 & 167 & 19 & 1 & 0.631188 & 1.736 & $\\dots$ \\\\\n\t24 & CVCORV & CVCORV & CVCORV71 & 71 & 169 & 19 & 1 & 0.843223 & 1.2627 & $\\dots$ \\\\\n\t25 & CRNEWP & CRNEWP & CRNEWP71 & 71 & 170 & 16 & 1 & 0.659314 & 1.8 & $\\dots$ \\\\\n\t26 & CR300 & CR300 & CR30071 & 71 & 171 & 16 & 1 & 0.775283 & 1.8 & $\\dots$ \\\\\n\t27 & CRNEWY & CRNEWY & CRNEWY71 & 71 & 172 & 16 & 1 & 0.77278 & 1.8 & $\\dots$ \\\\\n\t28 & DGCOLT & DGCOLT & DGCOLT71 & 71 & 173 & 16 & 1 & 0.49505 & 1.0168 & $\\dots$ \\\\\n\t29 & DGDART & DGDART & DGDART71 & 71 & 177 & 16 & 1 & 0.431034 & 1.379 & $\\dots$ \\\\\n\t30 & DGCHLN & DGCHLN & DGCHLN71 & 71 & 179 & 16 & 1 & 0.413907 & 1.4784 & $\\dots$ \\\\\n\t$\\dots$ & $\\dots$ & $\\dots$ & $\\dots$ & $\\dots$ & $\\dots$ & $\\dots$ & $\\dots$ & $\\dots$ & $\\dots$ &  \\\\\n\\end{tabular}\n"
     },
     "metadata": {},
     "execution_count": 1
    }
   ]
  }
 ],
 "metadata": {
  "kernelspec": {
   "display_name": "Julia 1.5.1",
   "language": "julia",
   "name": "julia-1.5"
  },
  "language_info": {
   "file_extension": ".jl",
   "mimetype": "application/julia",
   "name": "julia",
   "version": "1.5.3"
  }
 },
 "nbformat": 4,
 "nbformat_minor": 2
}