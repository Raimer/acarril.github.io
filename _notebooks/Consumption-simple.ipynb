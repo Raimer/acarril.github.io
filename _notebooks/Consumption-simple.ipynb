{
 "cells": [
  {
   "cell_type": "markdown",
   "metadata": {},
   "source": [
    "# Solow-Swan model\n",
    "\n",
    "Here we are going to work with a simple consumption model: $$c = \\sqrt{a^2 + b^2}$$"
   ]
  },
  {
   "cell_type": "code",
   "execution_count": 1,
   "metadata": {},
   "outputs": [],
   "source": [
    "import matplotlib.pyplot as plt\n",
    "%matplotlib inline\n",
    "import pandas as pd\n",
    "import seaborn as sns\n",
    "from ipywidgets import interact"
   ]
  },
  {
   "cell_type": "code",
   "execution_count": 2,
   "metadata": {},
   "outputs": [
    {
     "data": {
      "text/plain": [
       "<pandas.io.stata.StataReader at 0x7fe6a82a4a58>"
      ]
     },
     "execution_count": 2,
     "metadata": {},
     "output_type": "execute_result"
    }
   ],
   "source": [
    "# Load data and print head\n",
    "df = pd.read_stata(\"http://www.rug.nl/ggdc/docs/pwt90.dta\", iterator = True)"
   ]
  },
  {
   "cell_type": "code",
   "execution_count": 3,
   "metadata": {},
   "outputs": [
    {
     "data": {
      "text/plain": [
       "{'avh': 'Average annual hours worked by persons engaged (source: The Conference Board)',\n",
       " 'ccon': 'Real consumption of households and government, at current PPPs (in mil. 2011US$)',\n",
       " 'cda': 'Real domestic absorption, see note cda',\n",
       " 'cgdpe': 'Expenditure-side real GDP at current PPPs (in mil. 2011US$)',\n",
       " 'cgdpo': 'Output-side real GDP at current PPPs (in mil. 2011US$)',\n",
       " 'ck': 'Capital stock at current PPPs (in mil. 2011US$)',\n",
       " 'cor_exp': 'Correlation between expenditure shares, see note cor_exp',\n",
       " 'country': 'Country name',\n",
       " 'countrycode': '3-letter ISO country code',\n",
       " 'csh_c': 'Share of household consumption at current PPPs',\n",
       " 'csh_g': 'Share of government consumption at current PPPs',\n",
       " 'csh_i': 'Share of gross capital formation at current PPPs',\n",
       " 'csh_m': 'Share of merchandise imports at current PPPs',\n",
       " 'csh_r': 'Share of residual trade and GDP statistical discrepancy at current PPPs',\n",
       " 'csh_x': 'Share of merchandise exports at current PPPs',\n",
       " 'ctfp': 'TFP level at current PPPs (USA=1)',\n",
       " 'currency_unit': 'Currency unit',\n",
       " 'cwtfp': 'Welfare-relevant TFP levels at current PPPs (USA=1)',\n",
       " 'delta': 'Average depreciation rate of the capital stock',\n",
       " 'emp': 'Number of persons engaged (in millions)',\n",
       " 'hc': 'Human capital index, see note hc',\n",
       " 'i_cig': '0/1/2, see note i_cig',\n",
       " 'i_outlier': '0/1, see note i_outlier',\n",
       " 'i_xm': '0/1/2, see note i_xm',\n",
       " 'i_xr': '0/1: the exchange rate is market-based (0) or estimated (1)',\n",
       " 'labsh': 'Share of labour compensation in GDP at current national prices',\n",
       " 'pl_c': 'Price level of household consumption,  price level of USA GDPo in 2011=1',\n",
       " 'pl_con': 'Price level of CCON (PPP/XR), price level of USA GDPo in 2011=1',\n",
       " 'pl_da': 'Price level of CDA (PPP/XR), price level of USA GDPo in 2011=1',\n",
       " 'pl_g': 'Price level of government consumption, price level of USA GDPo in 2011=1',\n",
       " 'pl_gdpo': 'Price level of CGDPo (PPP/XR),  price level of USA GDPo in 2011=1',\n",
       " 'pl_i': 'Price level of capital formation, price level of USA GDPo in 2011=1',\n",
       " 'pl_k': 'Price level of the capital stock, price level of USA 2011=1',\n",
       " 'pl_m': 'Price level of imports, price level of USA GDPo in 2011=1',\n",
       " 'pl_x': 'Price level of exports, price level of USA GDPo in 2011=1',\n",
       " 'pop': 'Population (in millions)',\n",
       " 'rconna': 'Real consumption at constant 2011 national prices (in mil. 2011US$)',\n",
       " 'rdana': 'Real domestic absorption at constant 2011 national prices (in mil. 2011US$)',\n",
       " 'rgdpe': 'Expenditure-side real GDP at chained PPPs (in mil. 2011US$)',\n",
       " 'rgdpna': 'Real GDP at constant 2011 national prices (in mil. 2011US$)',\n",
       " 'rgdpo': 'Output-side real GDP at chained PPPs (in mil. 2011US$)',\n",
       " 'rkna': 'Capital stock at constant 2011 national prices (in mil. 2011US$)',\n",
       " 'rtfpna': 'TFP at constant national prices (2011=1)',\n",
       " 'rwtfpna': 'Welfare-relevant TFP at constant national prices (2011=1)',\n",
       " 'statcap': 'Statistical capacity indicator (source: World Bank, developing countries only)',\n",
       " 'xr': 'Exchange rate, national currency/USD (market+estimated)',\n",
       " 'year': 'Year'}"
      ]
     },
     "execution_count": 3,
     "metadata": {},
     "output_type": "execute_result"
    }
   ],
   "source": [
    "df.variable_labels()"
   ]
  },
  {
   "cell_type": "markdown",
   "metadata": {},
   "source": [
    "### Did countries with lower income levels grow faster?\n",
    "We can approach this question by producing a scatterplot of $\\log(GDP)$ per capita and average growth:"
   ]
  },
  {
   "cell_type": "code",
   "execution_count": 4,
   "metadata": {},
   "outputs": [
    {
     "ename": "AttributeError",
     "evalue": "'StataReader' object has no attribute 'get'",
     "output_type": "error",
     "traceback": [
      "\u001b[0;31m---------------------------------------------------------------------------\u001b[0m",
      "\u001b[0;31mAttributeError\u001b[0m                            Traceback (most recent call last)",
      "\u001b[0;32m<ipython-input-4-832402358eca>\u001b[0m in \u001b[0;36m<module>\u001b[0;34m()\u001b[0m\n\u001b[0;32m----> 1\u001b[0;31m \u001b[0mg\u001b[0m \u001b[0;34m=\u001b[0m \u001b[0msns\u001b[0m\u001b[0;34m.\u001b[0m\u001b[0mjointplot\u001b[0m\u001b[0;34m(\u001b[0m\u001b[0;34m\"lgdp60\"\u001b[0m\u001b[0;34m,\u001b[0m \u001b[0;34m\"ggdp\"\u001b[0m\u001b[0;34m,\u001b[0m \u001b[0mdata\u001b[0m\u001b[0;34m=\u001b[0m\u001b[0mdf\u001b[0m\u001b[0;34m,\u001b[0m \u001b[0mkind\u001b[0m\u001b[0;34m=\u001b[0m\u001b[0;34m\"reg\"\u001b[0m\u001b[0;34m,\u001b[0m \u001b[0mcolor\u001b[0m \u001b[0;34m=\u001b[0m\u001b[0;34m\"b\"\u001b[0m\u001b[0;34m,\u001b[0m \u001b[0msize\u001b[0m\u001b[0;34m=\u001b[0m\u001b[0;36m7\u001b[0m\u001b[0;34m)\u001b[0m\u001b[0;34m\u001b[0m\u001b[0m\n\u001b[0m",
      "\u001b[0;32m~/anaconda3/lib/python3.6/site-packages/seaborn/axisgrid.py\u001b[0m in \u001b[0;36mjointplot\u001b[0;34m(x, y, data, kind, stat_func, color, size, ratio, space, dropna, xlim, ylim, joint_kws, marginal_kws, annot_kws, **kwargs)\u001b[0m\n\u001b[1;32m   2217\u001b[0m     grid = JointGrid(x, y, data, dropna=dropna,\n\u001b[1;32m   2218\u001b[0m                      \u001b[0msize\u001b[0m\u001b[0;34m=\u001b[0m\u001b[0msize\u001b[0m\u001b[0;34m,\u001b[0m \u001b[0mratio\u001b[0m\u001b[0;34m=\u001b[0m\u001b[0mratio\u001b[0m\u001b[0;34m,\u001b[0m \u001b[0mspace\u001b[0m\u001b[0;34m=\u001b[0m\u001b[0mspace\u001b[0m\u001b[0;34m,\u001b[0m\u001b[0;34m\u001b[0m\u001b[0m\n\u001b[0;32m-> 2219\u001b[0;31m                      xlim=xlim, ylim=ylim)\n\u001b[0m\u001b[1;32m   2220\u001b[0m \u001b[0;34m\u001b[0m\u001b[0m\n\u001b[1;32m   2221\u001b[0m     \u001b[0;31m# Plot the data using the grid\u001b[0m\u001b[0;34m\u001b[0m\u001b[0;34m\u001b[0m\u001b[0m\n",
      "\u001b[0;32m~/anaconda3/lib/python3.6/site-packages/seaborn/axisgrid.py\u001b[0m in \u001b[0;36m__init__\u001b[0;34m(self, x, y, data, size, ratio, space, dropna, xlim, ylim)\u001b[0m\n\u001b[1;32m   1658\u001b[0m         \u001b[0;31m# Possibly extract the variables from a DataFrame\u001b[0m\u001b[0;34m\u001b[0m\u001b[0;34m\u001b[0m\u001b[0m\n\u001b[1;32m   1659\u001b[0m         \u001b[0;32mif\u001b[0m \u001b[0mdata\u001b[0m \u001b[0;32mis\u001b[0m \u001b[0;32mnot\u001b[0m \u001b[0;32mNone\u001b[0m\u001b[0;34m:\u001b[0m\u001b[0;34m\u001b[0m\u001b[0m\n\u001b[0;32m-> 1660\u001b[0;31m             \u001b[0mx\u001b[0m \u001b[0;34m=\u001b[0m \u001b[0mdata\u001b[0m\u001b[0;34m.\u001b[0m\u001b[0mget\u001b[0m\u001b[0;34m(\u001b[0m\u001b[0mx\u001b[0m\u001b[0;34m,\u001b[0m \u001b[0mx\u001b[0m\u001b[0;34m)\u001b[0m\u001b[0;34m\u001b[0m\u001b[0m\n\u001b[0m\u001b[1;32m   1661\u001b[0m             \u001b[0my\u001b[0m \u001b[0;34m=\u001b[0m \u001b[0mdata\u001b[0m\u001b[0;34m.\u001b[0m\u001b[0mget\u001b[0m\u001b[0;34m(\u001b[0m\u001b[0my\u001b[0m\u001b[0;34m,\u001b[0m \u001b[0my\u001b[0m\u001b[0;34m)\u001b[0m\u001b[0;34m\u001b[0m\u001b[0m\n\u001b[1;32m   1662\u001b[0m \u001b[0;34m\u001b[0m\u001b[0m\n",
      "\u001b[0;31mAttributeError\u001b[0m: 'StataReader' object has no attribute 'get'"
     ]
    },
    {
     "data": {
      "image/png": "[encoded data removed]",
      "text/plain": [
       "<Figure size 504x504 with 3 Axes>"
      ]
     },
     "metadata": {},
     "output_type": "display_data"
    }
   ],
   "source": [
    "g = sns.jointplot(\"lgdp60\", \"ggdp\", data=df, kind=\"reg\", color =\"b\", size=7)"
   ]
  }
 ],
 "metadata": {
  "kernelspec": {
   "display_name": "Python 3",
   "language": "python",
   "name": "python3"
  },
  "language_info": {
   "codemirror_mode": {
    "name": "ipython",
    "version": 3
   },
   "file_extension": ".py",
   "mimetype": "text/x-python",
   "name": "python",
   "nbconvert_exporter": "python",
   "pygments_lexer": "ipython3",
   "version": "3.6.3"
  }
 },
 "nbformat": 4,
 "nbformat_minor": 2
}
